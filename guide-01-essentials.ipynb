{
 "cells": [
  {
   "cell_type": "markdown",
   "id": "4d9e78e9",
   "metadata": {},
   "source": [
    "# Базовые конструкции языка\n",
    "\n",
    "Это задание направлено на знакомство с базовыми конструкциями языка (арифметические выражения, логические выражения, переменные, ввод и вывод), а так же с тем, как их можно друг с другом комбинировать.\n",
    "\n",
    "По хорошему этих конструкций уже должно хватать, чтобы получалось писать простые программы, например, &laquo;вывести все четные числа от a до b&raquo;."
   ]
  },
  {
   "cell_type": "markdown",
   "id": "5d013f97",
   "metadata": {},
   "source": [
    "## Арифметические выражения"
   ]
  },
  {
   "cell_type": "code",
   "execution_count": 31,
   "id": "34206176",
   "metadata": {},
   "outputs": [
    {
     "data": {
      "text/plain": [
       "3"
      ]
     },
     "execution_count": 31,
     "metadata": {},
     "output_type": "execute_result"
    }
   ],
   "source": [
    "1 + 2"
   ]
  },
  {
   "cell_type": "markdown",
   "id": "398456d8",
   "metadata": {},
   "source": [
    "Это так называемый интерактивный питон, здесь результат вычисления последнего выражения в клетке будет напечатан под ней. Так, например, 3 была напечатана под предыдущей клеткой."
   ]
  },
  {
   "cell_type": "code",
   "execution_count": 2,
   "id": "3afeda70",
   "metadata": {},
   "outputs": [
    {
     "data": {
      "text/plain": [
       "4"
      ]
     },
     "execution_count": 2,
     "metadata": {},
     "output_type": "execute_result"
    }
   ],
   "source": [
    "2 + 2"
   ]
  },
  {
   "cell_type": "code",
   "execution_count": 4,
   "id": "7c8e7b1d",
   "metadata": {},
   "outputs": [
    {
     "data": {
      "text/plain": [
       "(-2, 2)"
      ]
     },
     "execution_count": 4,
     "metadata": {},
     "output_type": "execute_result"
    }
   ],
   "source": [
    "1 - 3, 3 - 1 # запятая обозначает перечисление, более точное определение этому будет дано дальше"
   ]
  },
  {
   "cell_type": "code",
   "execution_count": 6,
   "id": "6226dcc9",
   "metadata": {},
   "outputs": [
    {
     "data": {
      "text/plain": [
       "(5, -1, 6, 0.6666666666666666)"
      ]
     },
     "execution_count": 6,
     "metadata": {},
     "output_type": "execute_result"
    }
   ],
   "source": [
    "2 + 3, 2 - 3, 2 * 3, 2 / 3 # сложение, вычитание, умножение, деление"
   ]
  },
  {
   "cell_type": "code",
   "execution_count": 8,
   "id": "bd1abac3",
   "metadata": {},
   "outputs": [
    {
     "data": {
      "text/plain": [
       "(2.4, 2, 2)"
      ]
     },
     "execution_count": 8,
     "metadata": {},
     "output_type": "execute_result"
    }
   ],
   "source": [
    "12 / 5, 12 // 5, 12 % 5 # деление, целочисленное деление, остаток при делении"
   ]
  },
  {
   "cell_type": "code",
   "execution_count": 9,
   "id": "12a3e8bf",
   "metadata": {},
   "outputs": [
    {
     "data": {
      "text/plain": [
       "9.24"
      ]
     },
     "execution_count": 9,
     "metadata": {},
     "output_type": "execute_result"
    }
   ],
   "source": [
    "7.11 + 2.13"
   ]
  },
  {
   "cell_type": "code",
   "execution_count": 19,
   "id": "cf572063",
   "metadata": {},
   "outputs": [
    {
     "data": {
      "text/plain": [
       "0.30000000000000004"
      ]
     },
     "execution_count": 19,
     "metadata": {},
     "output_type": "execute_result"
    }
   ],
   "source": [
    "0.1 + 0.2"
   ]
  },
  {
   "cell_type": "markdown",
   "id": "36f3051e",
   "metadata": {},
   "source": [
    "Как видно, сложение нецелых чисел не всегда приводит к точному результату. Это происходит из-за того, что все числа хранятся в двоичной системе счисления, и не всегда двоичное представление может быть без потери точности представлено в десятичной форме."
   ]
  },
  {
   "cell_type": "code",
   "execution_count": 20,
   "id": "d3d252c8",
   "metadata": {},
   "outputs": [
    {
     "data": {
      "text/plain": [
       "9"
      ]
     },
     "execution_count": 20,
     "metadata": {},
     "output_type": "execute_result"
    }
   ],
   "source": [
    "3 ** 2 # возведение в степень"
   ]
  },
  {
   "cell_type": "code",
   "execution_count": 22,
   "id": "9aeb0ddb",
   "metadata": {},
   "outputs": [
    {
     "data": {
      "text/plain": [
       "(0.6, 9.999999999999998)"
      ]
     },
     "execution_count": 22,
     "metadata": {},
     "output_type": "execute_result"
    }
   ],
   "source": [
    "0.36 ** 0.5, 1000000 ** (1 / 6) # в том числе работает и с дробными числами (не всегда точно, разумеется)"
   ]
  },
  {
   "cell_type": "code",
   "execution_count": 23,
   "id": "d1002d95",
   "metadata": {},
   "outputs": [
    {
     "data": {
      "text/plain": [
       "7.0"
      ]
     },
     "execution_count": 23,
     "metadata": {},
     "output_type": "execute_result"
    }
   ],
   "source": [
    "10 - (0.1 + 0.2) * 10 # порядок операций задается скобками"
   ]
  },
  {
   "cell_type": "code",
   "execution_count": 25,
   "id": "938b7ee0",
   "metadata": {
    "scrolled": true
   },
   "outputs": [
    {
     "data": {
      "text/plain": [
       "3.0000000000000004"
      ]
     },
     "execution_count": 25,
     "metadata": {},
     "output_type": "execute_result"
    }
   ],
   "source": [
    "(0.1 + 0.2) * 10 # кстати, все еще неточное число"
   ]
  },
  {
   "cell_type": "code",
   "execution_count": 26,
   "id": "92830d2d",
   "metadata": {},
   "outputs": [
    {
     "data": {
      "text/plain": [
       "7.0"
      ]
     },
     "execution_count": 26,
     "metadata": {},
     "output_type": "execute_result"
    }
   ],
   "source": [
    "6.9999999999999996 # просто это число нельзя представить с достаточной точностью"
   ]
  },
  {
   "cell_type": "markdown",
   "id": "5d41df58",
   "metadata": {},
   "source": [
    "### Полезные функции для работы с числами"
   ]
  },
  {
   "cell_type": "code",
   "execution_count": 13,
   "id": "b5e22f7d",
   "metadata": {},
   "outputs": [
    {
     "data": {
      "text/plain": [
       "2"
      ]
     },
     "execution_count": 13,
     "metadata": {},
     "output_type": "execute_result"
    }
   ],
   "source": [
    "round(2.4) # округление до ближайшего целого"
   ]
  },
  {
   "cell_type": "code",
   "execution_count": 17,
   "id": "71ba536e",
   "metadata": {},
   "outputs": [
    {
     "data": {
      "text/plain": [
       "(2, -2)"
      ]
     },
     "execution_count": 17,
     "metadata": {},
     "output_type": "execute_result"
    }
   ],
   "source": [
    "round(2.5), round(-2.5) # половины огругляются в сторону к нулю"
   ]
  },
  {
   "cell_type": "code",
   "execution_count": 32,
   "id": "7ac54bce",
   "metadata": {},
   "outputs": [
    {
     "data": {
      "text/plain": [
       "(0.3, 7.33)"
      ]
     },
     "execution_count": 32,
     "metadata": {},
     "output_type": "execute_result"
    }
   ],
   "source": [
    "round(0.1 + 0.2, 1), round(7.3333, 2) # округление до заданной точности после точки"
   ]
  },
  {
   "cell_type": "code",
   "execution_count": 27,
   "id": "5c38b15f",
   "metadata": {},
   "outputs": [
    {
     "data": {
      "text/plain": [
       "(2, 1)"
      ]
     },
     "execution_count": 27,
     "metadata": {},
     "output_type": "execute_result"
    }
   ],
   "source": [
    "max(1, 2), min(1, 2) # максимум и минимум"
   ]
  },
  {
   "cell_type": "code",
   "execution_count": 30,
   "id": "039df5a7",
   "metadata": {},
   "outputs": [
    {
     "data": {
      "text/plain": [
       "(10, -7)"
      ]
     },
     "execution_count": 30,
     "metadata": {},
     "output_type": "execute_result"
    }
   ],
   "source": [
    "max(1, 10, -2, 7, 4), min(2, 1, -2, 9, -7) # могут принимать совершенно любое количество аргументов"
   ]
  },
  {
   "cell_type": "code",
   "execution_count": 31,
   "id": "d28cb7df",
   "metadata": {},
   "outputs": [
    {
     "data": {
      "text/plain": [
       "(2.3, 2.3)"
      ]
     },
     "execution_count": 31,
     "metadata": {},
     "output_type": "execute_result"
    }
   ],
   "source": [
    "abs(2.3), abs(-2.3) # модуль/абсолютное значение"
   ]
  },
  {
   "cell_type": "code",
   "execution_count": 44,
   "id": "17ca28b4",
   "metadata": {},
   "outputs": [
    {
     "data": {
      "text/plain": [
       "('0b1100', '0b10000000000')"
      ]
     },
     "execution_count": 44,
     "metadata": {},
     "output_type": "execute_result"
    }
   ],
   "source": [
    "bin(12), bin(1024) # двоичное представление числа"
   ]
  },
  {
   "cell_type": "code",
   "execution_count": 45,
   "id": "b162a6f6",
   "metadata": {},
   "outputs": [
    {
     "data": {
      "text/plain": [
       "(1, 1.0)"
      ]
     },
     "execution_count": 45,
     "metadata": {},
     "output_type": "execute_result"
    }
   ],
   "source": [
    "int(1.2222), float(1) # int и float можно использовать для преобразования в целое и дробное число"
   ]
  },
  {
   "cell_type": "code",
   "execution_count": 47,
   "id": "f1ae25f2",
   "metadata": {},
   "outputs": [
    {
     "data": {
      "text/plain": [
       "(-1, -2.0)"
      ]
     },
     "execution_count": 47,
     "metadata": {},
     "output_type": "execute_result"
    }
   ],
   "source": [
    "int(-1.2222), float(-2) # int, вызванный от дробного числа, откидывает дробную часть, float от целого - добавляет .0"
   ]
  },
  {
   "cell_type": "markdown",
   "id": "7ee7f60f",
   "metadata": {},
   "source": [
    "## Логические выражения\n",
    "\n",
    "Аналогично арифметическим выражениям, есть логические выражения. Они возвращают результаты типа &laquo;истина&raquo; или &laquo;ложь&raquo; (`True` или `False`) и позволяют управлять ходом программы. Так, например, в случае выполнения некоторого условия можно выполнить одни команды, а иначе &ndash; другие."
   ]
  },
  {
   "cell_type": "code",
   "execution_count": 2,
   "id": "b86f6bfc",
   "metadata": {},
   "outputs": [
    {
     "data": {
      "text/plain": [
       "True"
      ]
     },
     "execution_count": 2,
     "metadata": {},
     "output_type": "execute_result"
    }
   ],
   "source": [
    "1 < 2 # проверка на то, что аргумент меньше"
   ]
  },
  {
   "cell_type": "code",
   "execution_count": 3,
   "id": "326822ed",
   "metadata": {},
   "outputs": [
    {
     "data": {
      "text/plain": [
       "(True, True, True, False)"
      ]
     },
     "execution_count": 3,
     "metadata": {},
     "output_type": "execute_result"
    }
   ],
   "source": [
    "2 <= 3, 3 < 4, 3 >= 3, 3 > 3 # все возможные сравнения на меньше-больше"
   ]
  },
  {
   "cell_type": "code",
   "execution_count": 5,
   "id": "507493ef",
   "metadata": {},
   "outputs": [
    {
     "data": {
      "text/plain": [
       "(True, True, True)"
      ]
     },
     "execution_count": 5,
     "metadata": {},
     "output_type": "execute_result"
    }
   ],
   "source": [
    "2 == 2, 2 == 2.0, 2 == 0b10 # сравнение на равенство по значению (последнее - двоичная запись)"
   ]
  },
  {
   "cell_type": "code",
   "execution_count": 6,
   "id": "3914140e",
   "metadata": {},
   "outputs": [
    {
     "data": {
      "text/plain": [
       "(False, True)"
      ]
     },
     "execution_count": 6,
     "metadata": {},
     "output_type": "execute_result"
    }
   ],
   "source": [
    "2 != 2, 2 != 3 # сравнение на неравенство"
   ]
  },
  {
   "cell_type": "code",
   "execution_count": 7,
   "id": "e8ff4893",
   "metadata": {},
   "outputs": [
    {
     "data": {
      "text/plain": [
       "True"
      ]
     },
     "execution_count": 7,
     "metadata": {},
     "output_type": "execute_result"
    }
   ],
   "source": [
    "1 < 2 < 3 < 4 # можно объединять цепочки сравнений, тогда будет проверено каждое из них"
   ]
  },
  {
   "cell_type": "code",
   "execution_count": 9,
   "id": "c4681acd",
   "metadata": {},
   "outputs": [
    {
     "data": {
      "text/plain": [
       "False"
      ]
     },
     "execution_count": 9,
     "metadata": {},
     "output_type": "execute_result"
    }
   ],
   "source": [
    "1 < 2 < 3 < 2 # не выполнено 3 < 2, так что False"
   ]
  },
  {
   "cell_type": "markdown",
   "id": "7b869398",
   "metadata": {},
   "source": [
    "### Логические операторы"
   ]
  },
  {
   "cell_type": "code",
   "execution_count": 10,
   "id": "be0d58bd",
   "metadata": {},
   "outputs": [
    {
     "data": {
      "text/plain": [
       "False"
      ]
     },
     "execution_count": 10,
     "metadata": {},
     "output_type": "execute_result"
    }
   ],
   "source": [
    "2 < 2 and 10 % 2 == 0 # and проверяет истинность обоих утверждений"
   ]
  },
  {
   "cell_type": "code",
   "execution_count": 11,
   "id": "fa3a44b1",
   "metadata": {},
   "outputs": [
    {
     "data": {
      "text/plain": [
       "True"
      ]
     },
     "execution_count": 11,
     "metadata": {},
     "output_type": "execute_result"
    }
   ],
   "source": [
    "2 < 2 or 10 % 2 == 0 # or проверяет истинность хотя бы одного из утверждений"
   ]
  },
  {
   "cell_type": "code",
   "execution_count": 12,
   "id": "ce226e0a",
   "metadata": {},
   "outputs": [
    {
     "data": {
      "text/plain": [
       "True"
      ]
     },
     "execution_count": 12,
     "metadata": {},
     "output_type": "execute_result"
    }
   ],
   "source": [
    "(2 == 2) == True # проверяет на равенство результат (2 == 2) и True"
   ]
  },
  {
   "cell_type": "code",
   "execution_count": 13,
   "id": "60532dae",
   "metadata": {},
   "outputs": [
    {
     "data": {
      "text/plain": [
       "True"
      ]
     },
     "execution_count": 13,
     "metadata": {},
     "output_type": "execute_result"
    }
   ],
   "source": [
    "2 == 2 # на самом деле бесполезная конструкция, потому что проверка на равенство с True не меняет значение результата"
   ]
  },
  {
   "cell_type": "code",
   "execution_count": 19,
   "id": "e0344f19",
   "metadata": {},
   "outputs": [
    {
     "data": {
      "text/plain": [
       "True"
      ]
     },
     "execution_count": 19,
     "metadata": {},
     "output_type": "execute_result"
    }
   ],
   "source": [
    "(2 == 3) == False # аналогично, но для False, уже чуть более осмысленно"
   ]
  },
  {
   "cell_type": "code",
   "execution_count": 20,
   "id": "8d1cc8bb",
   "metadata": {},
   "outputs": [
    {
     "data": {
      "text/plain": [
       "True"
      ]
     },
     "execution_count": 20,
     "metadata": {},
     "output_type": "execute_result"
    }
   ],
   "source": [
    "not 2 == 3 # но на самом деле для этого стоит использовать оператор отрицания not"
   ]
  },
  {
   "cell_type": "code",
   "execution_count": 21,
   "id": "dcee2eaa",
   "metadata": {},
   "outputs": [
    {
     "data": {
      "text/plain": [
       "(True, False, False, False)"
      ]
     },
     "execution_count": 21,
     "metadata": {},
     "output_type": "execute_result"
    }
   ],
   "source": [
    "True and True, True and False, False and True, False and False # результаты работы and"
   ]
  },
  {
   "cell_type": "code",
   "execution_count": 22,
   "id": "75f4b92f",
   "metadata": {},
   "outputs": [
    {
     "data": {
      "text/plain": [
       "(True, True, True, False)"
      ]
     },
     "execution_count": 22,
     "metadata": {},
     "output_type": "execute_result"
    }
   ],
   "source": [
    "True or True, True or False, False or True, False or False # результаты работы or"
   ]
  },
  {
   "cell_type": "code",
   "execution_count": 23,
   "id": "c2a8854d",
   "metadata": {},
   "outputs": [
    {
     "data": {
      "text/plain": [
       "(False, True)"
      ]
     },
     "execution_count": 23,
     "metadata": {},
     "output_type": "execute_result"
    }
   ],
   "source": [
    "not True, not False # результаты работы not"
   ]
  },
  {
   "cell_type": "code",
   "execution_count": 27,
   "id": "ca97e5b9",
   "metadata": {},
   "outputs": [
    {
     "data": {
      "text/plain": [
       "True"
      ]
     },
     "execution_count": 27,
     "metadata": {},
     "output_type": "execute_result"
    }
   ],
   "source": [
    "2 < 3 and 3 % 2 == 1 or 3 ** 2 < 2 ** 3 and 1 == 0 # можно объединять много условий в одно"
   ]
  },
  {
   "cell_type": "code",
   "execution_count": 30,
   "id": "4cb6e125",
   "metadata": {},
   "outputs": [
    {
     "data": {
      "text/plain": [
       "True"
      ]
     },
     "execution_count": 30,
     "metadata": {},
     "output_type": "execute_result"
    }
   ],
   "source": [
    "((2 < 3) and (3 % 2 == 1)) or ((3 ** 2 < 2 ** 3) and (1 == 0)) # порядок выполнения операций по умолчанию такой\n",
    "# 1. сначала арифметические операторы\n",
    "# 2. затем < > <= >= == !=\n",
    "# 3. затем not, затем and, и только в конце or"
   ]
  },
  {
   "cell_type": "markdown",
   "id": "574fb275",
   "metadata": {},
   "source": [
    "## Переменные\n",
    "\n",
    "Переменные &ndash; это способ хранить информацию под каким-то определенным именем. Например, можно описать алгоритм определения числа на простоту, считая, что это самое число спрятано под именем `n`. После чего, например, введя число с клавиатуры, можно подставить его в этот алгоритм, и получить результат.\n",
    "\n",
    "Неформально, любая программа &ndash; последовательность команд для обработки входных данных. Поскольку на момент написания программы входные данные неизвестны, их стоит обозначить некоторыми именами. Для примера, решение задачи &laquo;ввести два числа, вывести какое из них больше&raquo; можно реализовать, заведя переменные `a` и `b` под входные данные, и выведя результат вычисления выражения `a < b`."
   ]
  },
  {
   "cell_type": "code",
   "execution_count": 32,
   "id": "e05e855d",
   "metadata": {},
   "outputs": [],
   "source": [
    "a = 1 # заводим переменную с именем a, значение которой равно 1"
   ]
  },
  {
   "cell_type": "code",
   "execution_count": 33,
   "id": "83c40822",
   "metadata": {},
   "outputs": [
    {
     "data": {
      "text/plain": [
       "1"
      ]
     },
     "execution_count": 33,
     "metadata": {},
     "output_type": "execute_result"
    }
   ],
   "source": [
    "a # теперь если использовать это имя, как выражение, оно вернет 1"
   ]
  },
  {
   "cell_type": "code",
   "execution_count": 34,
   "id": "1bd33d59",
   "metadata": {},
   "outputs": [],
   "source": [
    "a = 2.22 # значение переменной можно менять"
   ]
  },
  {
   "cell_type": "code",
   "execution_count": 36,
   "id": "25f851c3",
   "metadata": {},
   "outputs": [
    {
     "data": {
      "text/plain": [
       "(True, True, False, 0.9284000000000008)"
      ]
     },
     "execution_count": 36,
     "metadata": {},
     "output_type": "execute_result"
    }
   ],
   "source": [
    "a > 2, a < 3, a == 2, a ** 2 - 4 # имя переменной можно использовать в любых выражениях, \n",
    "# подразумевая стоящее за ним значение"
   ]
  },
  {
   "cell_type": "code",
   "execution_count": 38,
   "id": "3f1a74e0",
   "metadata": {},
   "outputs": [
    {
     "data": {
      "text/plain": [
       "(True, False, False, 7.088900000000001)"
      ]
     },
     "execution_count": 38,
     "metadata": {},
     "output_type": "execute_result"
    }
   ],
   "source": [
    "a = 3.33\n",
    "a > 2, a < 3, a == 2, a ** 2 - 4 # переменная изменилась, значения выражений изменились"
   ]
  },
  {
   "cell_type": "code",
   "execution_count": 39,
   "id": "2ade1443",
   "metadata": {},
   "outputs": [],
   "source": [
    "a, b, c = 1, 2.1, -222222 # можно присвоить значения сразу нескольким переменным"
   ]
  },
  {
   "cell_type": "code",
   "execution_count": 40,
   "id": "d9cd2002",
   "metadata": {},
   "outputs": [
    {
     "data": {
      "text/plain": [
       "-222222"
      ]
     },
     "execution_count": 40,
     "metadata": {},
     "output_type": "execute_result"
    }
   ],
   "source": [
    "c"
   ]
  },
  {
   "cell_type": "code",
   "execution_count": 41,
   "id": "ebef81bd",
   "metadata": {},
   "outputs": [],
   "source": [
    "d = (b * b - 4 * a * c) ** -0.5 # справа может стоять выражение, оно будет вычислено"
   ]
  },
  {
   "cell_type": "code",
   "execution_count": 42,
   "id": "4fed07a4",
   "metadata": {},
   "outputs": [
    {
     "data": {
      "text/plain": [
       "0.0010606580710160098"
      ]
     },
     "execution_count": 42,
     "metadata": {},
     "output_type": "execute_result"
    }
   ],
   "source": [
    "d"
   ]
  },
  {
   "cell_type": "code",
   "execution_count": 43,
   "id": "630ebd84",
   "metadata": {},
   "outputs": [
    {
     "ename": "NameError",
     "evalue": "name 'e' is not defined",
     "output_type": "error",
     "traceback": [
      "\u001b[1;31m---------------------------------------------------------------------------\u001b[0m",
      "\u001b[1;31mNameError\u001b[0m                                 Traceback (most recent call last)",
      "\u001b[1;32mC:\\Users\\JETBRA~1\\AppData\\Local\\Temp/ipykernel_684/2502302734.py\u001b[0m in \u001b[0;36m<module>\u001b[1;34m\u001b[0m\n\u001b[1;32m----> 1\u001b[1;33m \u001b[0me\u001b[0m \u001b[1;31m# если использовать имя переменной, которому не было назначено значение, произойдет ошибка\u001b[0m\u001b[1;33m\u001b[0m\u001b[1;33m\u001b[0m\u001b[0m\n\u001b[0m",
      "\u001b[1;31mNameError\u001b[0m: name 'e' is not defined"
     ]
    }
   ],
   "source": [
    "e # если использовать имя переменной, которому не было назначено значение, произойдет ошибка"
   ]
  },
  {
   "cell_type": "code",
   "execution_count": 49,
   "id": "92707e0c",
   "metadata": {},
   "outputs": [
    {
     "ename": "SyntaxError",
     "evalue": "cannot assign to operator (Temp/ipykernel_684/2768226955.py, line 1)",
     "output_type": "error",
     "traceback": [
      "\u001b[1;36m  File \u001b[1;32m\"C:\\Users\\JETBRA~1\\AppData\\Local\\Temp/ipykernel_684/2768226955.py\"\u001b[1;36m, line \u001b[1;32m1\u001b[0m\n\u001b[1;33m    b * b = 4 # аналогично, слева от присваивания не может стоять выражение, это должно быть имя переменной\u001b[0m\n\u001b[1;37m    ^\u001b[0m\n\u001b[1;31mSyntaxError\u001b[0m\u001b[1;31m:\u001b[0m cannot assign to operator\n"
     ]
    }
   ],
   "source": [
    "b * b = 4 # аналогично, слева от присваивания не может стоять выражение, это должно быть имя переменной"
   ]
  },
  {
   "cell_type": "markdown",
   "id": "c4fc0d9f",
   "metadata": {},
   "source": [
    "## Ввод и вывод\n",
    "\n",
    "В программе мало смысла, если все данные в ней заданы изначально, и она никак не взаимодействует с внешним миром. Например, задача &laquo;проверьте число 127 на простоту&raquo; имеет мало смысла, можно один раз это сделать руками, и забыть про это.\n",
    "\n",
    "Скорее всего вы будете решать задачи вида &laquo;дано число `n`, проверьте его на простоту&raquo;. Лаба по линалу на проверку типа кривой второго порядка &ndash; вроде как типичный пример такой задачи."
   ]
  },
  {
   "cell_type": "code",
   "execution_count": 55,
   "id": "eeff076e",
   "metadata": {},
   "outputs": [
    {
     "name": "stdout",
     "output_type": "stream",
     "text": [
      "Кавычки по краям означают, что это строка\n"
     ]
    },
    {
     "data": {
      "text/plain": [
       "'Кавычки по краям означают, что это строка'"
      ]
     },
     "execution_count": 55,
     "metadata": {},
     "output_type": "execute_result"
    }
   ],
   "source": [
    "input() # команда input() позволяет запросить строку на ввод с клавиатуры"
   ]
  },
  {
   "cell_type": "code",
   "execution_count": 56,
   "id": "7ca210ac",
   "metadata": {},
   "outputs": [
    {
     "name": "stdout",
     "output_type": "stream",
     "text": [
      "10 2 -1.22\n"
     ]
    }
   ],
   "source": [
    "print(10, 2, -1.22) # команда print() выводит свои аргументы через пробел"
   ]
  },
  {
   "cell_type": "markdown",
   "id": "3d587bde",
   "metadata": {},
   "source": [
    "Команды `input()` и `print()` вводят и выводят именно строки. Например, с результатом вызова `input()` нельзя работать, как с числом, даже если введенная строка является записью некоторого числа.\n",
    "Для того, чтобы вводить числа, можно использовать функцию `int()`, которую видели выше, она преобразует свой аргумент к числу, если может."
   ]
  },
  {
   "cell_type": "code",
   "execution_count": 58,
   "id": "ef693ca2",
   "metadata": {},
   "outputs": [
    {
     "data": {
      "text/plain": [
       "12"
      ]
     },
     "execution_count": 58,
     "metadata": {},
     "output_type": "execute_result"
    }
   ],
   "source": [
    "int('12') # преобразует строку '12' в число 12"
   ]
  },
  {
   "cell_type": "code",
   "execution_count": 59,
   "id": "a904febf",
   "metadata": {},
   "outputs": [
    {
     "ename": "ValueError",
     "evalue": "invalid literal for int() with base 10: '12.1'",
     "output_type": "error",
     "traceback": [
      "\u001b[1;31m---------------------------------------------------------------------------\u001b[0m",
      "\u001b[1;31mValueError\u001b[0m                                Traceback (most recent call last)",
      "\u001b[1;32mC:\\Users\\JETBRA~1\\AppData\\Local\\Temp/ipykernel_684/3200913165.py\u001b[0m in \u001b[0;36m<module>\u001b[1;34m\u001b[0m\n\u001b[1;32m----> 1\u001b[1;33m \u001b[0mint\u001b[0m\u001b[1;33m(\u001b[0m\u001b[1;34m'12.1'\u001b[0m\u001b[1;33m)\u001b[0m \u001b[1;31m# не может преобразовать, так как это не запись целого числа\u001b[0m\u001b[1;33m\u001b[0m\u001b[1;33m\u001b[0m\u001b[0m\n\u001b[0m",
      "\u001b[1;31mValueError\u001b[0m: invalid literal for int() with base 10: '12.1'"
     ]
    }
   ],
   "source": [
    "int('12.1') # не может преобразовать, так как это не запись целого числа"
   ]
  },
  {
   "cell_type": "code",
   "execution_count": 61,
   "id": "dc96d083",
   "metadata": {},
   "outputs": [
    {
     "data": {
      "text/plain": [
       "12.1"
      ]
     },
     "execution_count": 61,
     "metadata": {},
     "output_type": "execute_result"
    }
   ],
   "source": [
    "float('12.1') # но это корректная запись дробного числа, так что float может"
   ]
  },
  {
   "cell_type": "code",
   "execution_count": 62,
   "id": "d2f212fe",
   "metadata": {},
   "outputs": [
    {
     "name": "stdout",
     "output_type": "stream",
     "text": [
      "-123\n"
     ]
    }
   ],
   "source": [
    "a = int(input()) # читаем целое число, записываем его в переменную a"
   ]
  },
  {
   "cell_type": "code",
   "execution_count": 63,
   "id": "bceb1e22",
   "metadata": {},
   "outputs": [
    {
     "data": {
      "text/plain": [
       "-123"
      ]
     },
     "execution_count": 63,
     "metadata": {},
     "output_type": "execute_result"
    }
   ],
   "source": [
    "a"
   ]
  },
  {
   "cell_type": "code",
   "execution_count": 65,
   "id": "b6780230",
   "metadata": {},
   "outputs": [
    {
     "data": {
      "text/plain": [
       "1"
      ]
     },
     "execution_count": 65,
     "metadata": {},
     "output_type": "execute_result"
    }
   ],
   "source": [
    "a + 124 # можно работать с помощью стандартных арифметических операций, так как a хранит число"
   ]
  },
  {
   "cell_type": "code",
   "execution_count": 68,
   "id": "337d6d8d",
   "metadata": {},
   "outputs": [
    {
     "name": "stdout",
     "output_type": "stream",
     "text": [
      "-123\n"
     ]
    }
   ],
   "source": [
    "b = input() # не вызвали int, считали строку"
   ]
  },
  {
   "cell_type": "code",
   "execution_count": 69,
   "id": "699bd49e",
   "metadata": {},
   "outputs": [
    {
     "data": {
      "text/plain": [
       "'-123'"
      ]
     },
     "execution_count": 69,
     "metadata": {},
     "output_type": "execute_result"
    }
   ],
   "source": [
    "b"
   ]
  },
  {
   "cell_type": "code",
   "execution_count": 71,
   "id": "ebdacba4",
   "metadata": {},
   "outputs": [
    {
     "ename": "TypeError",
     "evalue": "can only concatenate str (not \"int\") to str",
     "output_type": "error",
     "traceback": [
      "\u001b[1;31m---------------------------------------------------------------------------\u001b[0m",
      "\u001b[1;31mTypeError\u001b[0m                                 Traceback (most recent call last)",
      "\u001b[1;32mC:\\Users\\JETBRA~1\\AppData\\Local\\Temp/ipykernel_684/1459489098.py\u001b[0m in \u001b[0;36m<module>\u001b[1;34m\u001b[0m\n\u001b[1;32m----> 1\u001b[1;33m \u001b[0mb\u001b[0m \u001b[1;33m+\u001b[0m \u001b[1;36m124\u001b[0m \u001b[1;31m# ошибка, нельзя складывать строку и число\u001b[0m\u001b[1;33m\u001b[0m\u001b[1;33m\u001b[0m\u001b[0m\n\u001b[0m",
      "\u001b[1;31mTypeError\u001b[0m: can only concatenate str (not \"int\") to str"
     ]
    }
   ],
   "source": [
    "b + 124 # ошибка, нельзя складывать строку и число"
   ]
  },
  {
   "cell_type": "code",
   "execution_count": 72,
   "id": "3b6f9796",
   "metadata": {},
   "outputs": [
    {
     "name": "stdout",
     "output_type": "stream",
     "text": [
      "12 + 5 = 17\n"
     ]
    }
   ],
   "source": [
    "print(12, '+', 5, '=', 12 + 5) # в выводе можно выводить как строки, так и числа, так и другие объекты"
   ]
  },
  {
   "cell_type": "code",
   "execution_count": 76,
   "id": "d13aafbf",
   "metadata": {},
   "outputs": [
    {
     "name": "stdout",
     "output_type": "stream",
     "text": [
      "12+5=17\n"
     ]
    }
   ],
   "source": [
    "print(12, '+', 5, '=', 12 + 5, sep='') # указав sep='строка', можно заменить стандартный разделитель"
   ]
  },
  {
   "cell_type": "code",
   "execution_count": 77,
   "id": "bfe8e3ac",
   "metadata": {},
   "outputs": [
    {
     "name": "stdout",
     "output_type": "stream",
     "text": [
      "1..x..2..x..3..x..4\n"
     ]
    }
   ],
   "source": [
    "print(1, 2, 3, 4, sep='..x..') # например, так"
   ]
  },
  {
   "cell_type": "markdown",
   "id": "fa581787",
   "metadata": {},
   "source": [
    "# Задания\n",
    "\n",
    "Дальше предложены несколько заданий на все, что было описано наверху. Попробуйте их выполнить, если чувствуете себя неуверенно в этом всем.\n",
    "\n",
    "**Хорошая рекомендация**: найдите любой Python Playground/Sandbox, в общем место, где можно в интерактивном режиме повбивать команды и посмотреть на результаты их выполнения. В этом плане очень хорошо подходит меню `Python Console` внутри PyCharm, оно работает как этот блокнот, выводит результаты интерактивно сразу же, но еще и умеет давать подсказки по синтаксису."
   ]
  },
  {
   "cell_type": "markdown",
   "id": "c122b76e",
   "metadata": {},
   "source": [
    "1. Считать число из ввода в переменную `a`, считать еще одно число со следующей строки в `b`, вывести их среднее арифметическое."
   ]
  },
  {
   "cell_type": "code",
   "execution_count": 78,
   "id": "1b101202",
   "metadata": {},
   "outputs": [
    {
     "data": {
      "text/plain": [
       "Ellipsis"
      ]
     },
     "execution_count": 78,
     "metadata": {},
     "output_type": "execute_result"
    }
   ],
   "source": [
    "... # место для вашего кода"
   ]
  },
  {
   "cell_type": "markdown",
   "id": "064e1843",
   "metadata": {},
   "source": [
    "2. Считать так же из ввода два числа `a` и `b`, вывести строку вида `a в степени b равно ..`, где вместо `a`, `b` и `..` подставлены реальные значения (например, `2 в степени 3 равно 8`)."
   ]
  },
  {
   "cell_type": "code",
   "execution_count": 79,
   "id": "3389e868",
   "metadata": {},
   "outputs": [
    {
     "data": {
      "text/plain": [
       "Ellipsis"
      ]
     },
     "execution_count": 79,
     "metadata": {},
     "output_type": "execute_result"
    }
   ],
   "source": [
    "... # место для вашего кода"
   ]
  },
  {
   "cell_type": "markdown",
   "id": "692c93f3",
   "metadata": {},
   "source": [
    "3. Считать из ввода одно число (целое), и проверить, что оно является точным квадратом, то есть равно `a * a` для некоторого целого `a`. Вывести `True` или `False`."
   ]
  },
  {
   "cell_type": "code",
   "execution_count": 80,
   "id": "6de83ef9",
   "metadata": {},
   "outputs": [
    {
     "data": {
      "text/plain": [
       "Ellipsis"
      ]
     },
     "execution_count": 80,
     "metadata": {},
     "output_type": "execute_result"
    }
   ],
   "source": [
    "... # место для вашего кода"
   ]
  },
  {
   "cell_type": "code",
   "execution_count": null,
   "id": "e9ef35e0",
   "metadata": {},
   "outputs": [],
   "source": []
  }
 ],
 "metadata": {
  "kernelspec": {
   "display_name": "Python 3 (ipykernel)",
   "language": "python",
   "name": "python3"
  },
  "language_info": {
   "codemirror_mode": {
    "name": "ipython",
    "version": 3
   },
   "file_extension": ".py",
   "mimetype": "text/x-python",
   "name": "python",
   "nbconvert_exporter": "python",
   "pygments_lexer": "ipython3",
   "version": "3.9.7"
  }
 },
 "nbformat": 4,
 "nbformat_minor": 5
}
